{
 "cells": [
  {
   "cell_type": "code",
   "execution_count": 1,
   "metadata": {},
   "outputs": [
    {
     "name": "stderr",
     "output_type": "stream",
     "text": [
      "/home/alberto/anaconda3/envs/openmmlab2/lib/python3.10/site-packages/tqdm/auto.py:21: TqdmWarning: IProgress not found. Please update jupyter and ipywidgets. See https://ipywidgets.readthedocs.io/en/stable/user_install.html\n",
      "  from .autonotebook import tqdm as notebook_tqdm\n"
     ]
    },
    {
     "data": {
      "text/plain": [
       "array([[0, 0, 0, ..., 0, 0, 0],\n",
       "       [0, 0, 0, ..., 0, 0, 0],\n",
       "       [0, 0, 0, ..., 0, 0, 0],\n",
       "       ...,\n",
       "       [0, 0, 0, ..., 0, 0, 0],\n",
       "       [0, 0, 0, ..., 0, 0, 0],\n",
       "       [0, 0, 0, ..., 0, 0, 0]], dtype=uint8)"
      ]
     },
     "execution_count": 1,
     "metadata": {},
     "output_type": "execute_result"
    }
   ],
   "source": [
    "# Copyright (c) OpenMMLab. All rights reserved.\n",
    "import warnings\n",
    "from pathlib import Path\n",
    "from typing import Dict, Optional, Union\n",
    "\n",
    "import mmcv\n",
    "import mmengine.fileio as fileio\n",
    "import numpy as np\n",
    "from mmcv.transforms import BaseTransform\n",
    "from mmcv.transforms import LoadAnnotations as MMCV_LoadAnnotations\n",
    "from mmcv.transforms import LoadImageFromFile\n",
    "\n",
    "from mmseg.registry import TRANSFORMS\n",
    "from mmseg.utils import datafrombytes\n",
    "\n",
    "class REDLoadAnnotations(MMCV_LoadAnnotations):\n",
    "    \"\"\"Load annotations for semantic segmentation provided by dataset.\n",
    "\n",
    "    The annotation format is as the following:\n",
    "\n",
    "    .. code-block:: python\n",
    "\n",
    "        {\n",
    "            # Filename of semantic segmentation ground truth file.\n",
    "            'seg_map_path': 'a/b/c'\n",
    "        }\n",
    "\n",
    "    After this module, the annotation has been changed to the format below:\n",
    "\n",
    "    .. code-block:: python\n",
    "\n",
    "        {\n",
    "            # in str\n",
    "            'seg_fields': List\n",
    "             # In uint8 type.\n",
    "            'gt_seg_map': np.ndarray (H, W)\n",
    "        }\n",
    "\n",
    "    Required Keys:\n",
    "\n",
    "    - seg_map_path (str): Path of semantic segmentation ground truth file.\n",
    "\n",
    "    Added Keys:\n",
    "\n",
    "    - seg_fields (List)\n",
    "    - gt_seg_map (np.uint8)\n",
    "\n",
    "    Args:\n",
    "        reduce_zero_label (bool, optional): Whether reduce all label value\n",
    "            by 1. Usually used for datasets where 0 is background label.\n",
    "            Defaults to None.\n",
    "        imdecode_backend (str): The image decoding backend type. The backend\n",
    "            argument for :func:``mmcv.imfrombytes``.\n",
    "            See :fun:``mmcv.imfrombytes`` for details.\n",
    "            Defaults to 'pillow'.\n",
    "        backend_args (dict): Arguments to instantiate a file backend.\n",
    "            See https://mmengine.readthedocs.io/en/latest/api/fileio.htm\n",
    "            for details. Defaults to None.\n",
    "            Notes: mmcv>=2.0.0rc4, mmengine>=0.2.0 required.\n",
    "    \"\"\"\n",
    "\n",
    "    def __init__(\n",
    "        self,\n",
    "        ignore_classes=None,\n",
    "        reduce_zero_label=None,\n",
    "        backend_args=None,\n",
    "        imdecode_backend='pillow',\n",
    "    ) -> None:\n",
    "        super().__init__(\n",
    "            with_bbox=False,\n",
    "            with_label=False,\n",
    "            with_seg=True,\n",
    "            with_keypoints=False,\n",
    "            imdecode_backend=imdecode_backend,\n",
    "            backend_args=backend_args)\n",
    "        self.reduce_zero_label = reduce_zero_label\n",
    "        if self.reduce_zero_label is not None:\n",
    "            warnings.warn('`reduce_zero_label` will be deprecated, '\n",
    "                          'if you would like to ignore the zero label, please '\n",
    "                          'set `reduce_zero_label=True` when dataset '\n",
    "                          'initialized')\n",
    "        self.imdecode_backend = imdecode_backend\n",
    "        self.ignore_classes = ignore_classes\n",
    "\n",
    "    def _load_seg_map(self, results: dict) -> None:\n",
    "        \"\"\"Private function to load semantic segmentation annotations.\n",
    "\n",
    "        Args:\n",
    "            results (dict): Result dict from :obj:``mmcv.BaseDataset``.\n",
    "\n",
    "        Returns:\n",
    "            dict: The dict contains loaded semantic segmentation annotations.\n",
    "        \"\"\"\n",
    "\n",
    "        img_bytes = fileio.get(\n",
    "            results['seg_map_path'], backend_args=self.backend_args)\n",
    "        gt_semantic_seg = mmcv.imfrombytes(\n",
    "            img_bytes, flag='unchanged',\n",
    "            backend=self.imdecode_backend).squeeze().astype(np.uint8)\n",
    "\n",
    "        # reduce zero_label\n",
    "        # if self.reduce_zero_label is None:\n",
    "        #     self.reduce_zero_label = results['reduce_zero_label']\n",
    "        # assert self.reduce_zero_label == results['reduce_zero_label'], \\\n",
    "        #     'Initialize dataset with `reduce_zero_label` as ' \\\n",
    "        #     f'{results[\"reduce_zero_label\"]} but when load annotation ' \\\n",
    "        #     f'the `reduce_zero_label` is {self.reduce_zero_label}'\n",
    "        # if self.reduce_zero_label:\n",
    "        #     # avoid using underflow conversion\n",
    "        #     gt_semantic_seg[gt_semantic_seg == 0] = 255\n",
    "        #     gt_semantic_seg = gt_semantic_seg - 1\n",
    "        #     gt_semantic_seg[gt_semantic_seg == 254] = 255\n",
    "        # modify if custom classes\n",
    "        if results.get('label_map', None) is not None:\n",
    "            # Add deep copy to solve bug of repeatedly\n",
    "            # replace `gt_semantic_seg`, which is reported in\n",
    "            # https://github.com/open-mmlab/mmsegmentation/pull/1445/\n",
    "            gt_semantic_seg_copy = gt_semantic_seg.copy()\n",
    "            for old_id, new_id in results['label_map'].items():\n",
    "                gt_semantic_seg[gt_semantic_seg_copy == old_id] = new_id\n",
    "        results['gt_seg_map'] = gt_semantic_seg\n",
    "\n",
    "        # results['seg_fields'].append('gt_seg_map')\n",
    "        if self.ignore_classes is not None:\n",
    "            # results['gt_seg_map'][results['gt_seg_map'] in self.ignore_classes] = 0\n",
    "            # np.where(results['gt_seg_map'] in self.ignore_classes, 0, results['gt_seg_map'])\n",
    "\n",
    "            # Create a boolean mask indicating where the ignored values are present\n",
    "            mask = np.isin(results['gt_seg_map'], self.ignore_classes)\n",
    "\n",
    "            # Replace the values indicated by the mask with 0\n",
    "            results['gt_seg_map'][mask] = 0\n",
    "\n",
    "            # results['gt_seg_map'] = np.where(results['gt_seg_map'] == 7, 0, results['gt_seg_map'])\n",
    "        return results['gt_seg_map']\n",
    "\n",
    "    def __repr__(self) -> str:\n",
    "        repr_str = self.__class__.__name__\n",
    "        repr_str += f'(reduce_zero_label={self.reduce_zero_label}, '\n",
    "        repr_str += f\"imdecode_backend='{self.imdecode_backend}', \"\n",
    "        repr_str += f'backend_args={self.backend_args})'\n",
    "        return repr_str\n",
    "    \n",
    "\n",
    "# Define the classes to ignore during training\n",
    "ignore_classes = [2, 3, 5]  # Example: Ignore classes with IDs 2, 3, and 5\n",
    "\n",
    "# Create an instance of REDLoadAnnotations with the ignore_classes parameter\n",
    "annotations_loader = REDLoadAnnotations(ignore_classes=ignore_classes)\n",
    "\n",
    "# Use the annotations_loader in your dataset loading pipeline\n",
    "# For example:\n",
    "results = {'seg_map_path': 'datasets/fashion/annotations/val2020/0a45b6b033bf0077a15f484e98f3dbfe_seg.png'}  # Example semantic segmentation file path\n",
    "annotations_loader._load_seg_map(results)\n",
    "\n",
    "# The semantic segmentation map in results['gt_seg_map'] will now have the specified classes ignored\n"
   ]
  },
  {
   "cell_type": "code",
   "execution_count": 2,
   "metadata": {},
   "outputs": [
    {
     "name": "stdout",
     "output_type": "stream",
     "text": [
      "[[0 0 0 ... 0 0 0]\n",
      " [0 0 0 ... 0 0 0]\n",
      " [0 0 0 ... 0 0 0]\n",
      " ...\n",
      " [0 0 0 ... 0 0 0]\n",
      " [0 0 0 ... 0 0 0]\n",
      " [0 0 0 ... 0 0 0]]\n"
     ]
    },
    {
     "data": {
      "image/png": "[encoded data removed]",
      "text/plain": [
       "<Figure size 500x500 with 1 Axes>"
      ]
     },
     "metadata": {},
     "output_type": "display_data"
    }
   ],
   "source": [
    "arr = annotations_loader._load_seg_map(results)\n",
    "print(arr)\n",
    "import matplotlib.pyplot as plt\n",
    "import seaborn as sns\n",
    "sns.displot(arr, legend=False);"
   ]
  },
  {
   "cell_type": "code",
   "execution_count": 32,
   "metadata": {},
   "outputs": [
    {
     "data": {
      "text/plain": [
       "(61836,)"
      ]
     },
     "execution_count": 32,
     "metadata": {},
     "output_type": "execute_result"
    }
   ],
   "source": [
    "arr[arr == 7].shape"
   ]
  },
  {
   "cell_type": "code",
   "execution_count": 25,
   "metadata": {},
   "outputs": [
    {
     "data": {
      "text/plain": [
       "(array([48427,     0,     0,     0,     0, 61836,     0,     0,     0,\n",
       "            0,     0,     0,     0,     0,     0,     0,     0,     0,\n",
       "         1906,     0,     0,  7146,     0,     0,     0,     0,  1308,\n",
       "            0,     0, 27286,  2434,     0,   239,     0,     0,     0,\n",
       "            0,     0,     0,    35]),\n",
       " array([ 1.  ,  2.05,  3.1 ,  4.15,  5.2 ,  6.25,  7.3 ,  8.35,  9.4 ,\n",
       "        10.45, 11.5 , 12.55, 13.6 , 14.65, 15.7 , 16.75, 17.8 , 18.85,\n",
       "        19.9 , 20.95, 22.  , 23.05, 24.1 , 25.15, 26.2 , 27.25, 28.3 ,\n",
       "        29.35, 30.4 , 31.45, 32.5 , 33.55, 34.6 , 35.65, 36.7 , 37.75,\n",
       "        38.8 , 39.85, 40.9 , 41.95, 43.  ]))"
      ]
     },
     "execution_count": 25,
     "metadata": {},
     "output_type": "execute_result"
    }
   ],
   "source": [
    "np.histogram(arr[arr>0], bins=40)"
   ]
  }
 ],
 "metadata": {
  "kernelspec": {
   "display_name": "openmmlab2",
   "language": "python",
   "name": "python3"
  },
  "language_info": {
   "codemirror_mode": {
    "name": "ipython",
    "version": 3
   },
   "file_extension": ".py",
   "mimetype": "text/x-python",
   "name": "python",
   "nbconvert_exporter": "python",
   "pygments_lexer": "ipython3",
   "version": "3.10.12"
  }
 },
 "nbformat": 4,
 "nbformat_minor": 2
}
